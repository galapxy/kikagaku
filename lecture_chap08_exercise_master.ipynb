{
 "cells": [
  {
   "cell_type": "markdown",
   "metadata": {},
   "source": [
    "# 第8回講義 演習"
   ]
  },
  {
   "cell_type": "code",
   "execution_count": null,
   "metadata": {
    "collapsed": false
   },
   "outputs": [],
   "source": [
    "%matplotlib inline\n",
    "\n",
    "import numpy as np\n",
    "import tensorflow as tf\n",
    "import matplotlib.pyplot as plt\n",
    "\n",
    "from sklearn.utils import shuffle\n",
    "from sklearn.metrics import f1_score\n",
    "from sklearn.model_selection import train_test_split\n",
    "\n",
    "from keras.datasets import cifar10\n",
    "\n",
    "rng = np.random.RandomState(1234)\n",
    "random_state = 42"
   ]
  },
  {
   "cell_type": "markdown",
   "metadata": {},
   "source": [
    "## 課題1. CIFAR-10データセットの読み込みと可視化"
   ]
  },
  {
   "cell_type": "code",
   "execution_count": null,
   "metadata": {
    "collapsed": false
   },
   "outputs": [],
   "source": [
    "(cifar_X_1, cifar_y_1), (cifar_X_2, cifar_y_2) = cifar10.load_data()\n",
    "\n",
    "cifar_X = np.r_[cifar_X_1, cifar_X_2]\n",
    "cifar_y = np.r_[cifar_y_1, cifar_y_2]\n",
    "\n",
    "cifar_X = cifar_X.astype('float32') / 255\n",
    "cifar_y = np.eye(10)[cifar_y.astype('int32').flatten()]\n",
    "\n",
    "train_X, test_X, train_y, test_y = train_test_split(cifar_X, cifar_y, test_size=10000, random_state=random_state)\n",
    "train_X, valid_X, train_y, valid_y = train_test_split(train_X, train_y, test_size=10000, random_state=random_state)"
   ]
  },
  {
   "cell_type": "code",
   "execution_count": null,
   "metadata": {
    "collapsed": false
   },
   "outputs": [],
   "source": [
    "fig = plt.figure(figsize=(9, 15))\n",
    "fig.subplots_adjust(left=0, right=1, bottom=0, top=0.5, hspace=0.05,\n",
    "                    wspace=0.05)\n",
    "\n",
    "for i in range(81):\n",
    "    ax = fig.add_subplot(9, 9, i + 1, xticks=[], yticks=[])\n",
    "    ax.imshow(train_X[i])"
   ]
  },
  {
   "cell_type": "markdown",
   "metadata": {},
   "source": [
    "## 課題2. Data Augmentation"
   ]
  },
  {
   "cell_type": "markdown",
   "metadata": {},
   "source": [
    "- Flipping (horizontally)\n",
    "- Random cropping\n",
    "- ..."
   ]
  },
  {
   "cell_type": "markdown",
   "metadata": {},
   "source": [
    "### 1. Flipping (horizontally)"
   ]
  },
  {
   "cell_type": "code",
   "execution_count": null,
   "metadata": {
    "collapsed": false
   },
   "outputs": [],
   "source": [
    "flip_train_X = train_X[:, :, ::-1, :]\n",
    "\n",
    "fig = plt.figure(figsize=(9, 15))\n",
    "fig.subplots_adjust(left=0, right=1, bottom=0, top=0.5, hspace=0.05, wspace=0.05)\n",
    "\n",
    "for i in range(81):\n",
    "    ax = fig.add_subplot(9, 9, i + 1, xticks=[], yticks=[])\n",
    "    ax.imshow(flip_train_X[i])"
   ]
  },
  {
   "cell_type": "markdown",
   "metadata": {},
   "source": [
    "### 2. Random cropping"
   ]
  },
  {
   "cell_type": "markdown",
   "metadata": {},
   "source": [
    "- サイズを同じにするために，拡大したあとcropping，paddingしてからcroppingなどの方法がある．\n",
    "- cropは学習時に各バッチに対して行うことも多い．\n",
    "- 今回はDeep Residual Learning for Image Recognitionで使われた手法を実装"
   ]
  },
  {
   "cell_type": "code",
   "execution_count": null,
   "metadata": {
    "collapsed": false
   },
   "outputs": [],
   "source": [
    "padded = np.pad(train_X, ((0, 0), (4, 4), (4, 4), (0, 0)), mode='constant')\n",
    "crops = rng.randint(8, size=(len(train_X), 2))\n",
    "cropped_train_X = [padded[i, c[0]:(c[0]+32), c[1]:(c[1]+32), :] for i, c in enumerate(crops)]\n",
    "cropped_train_X = np.array(cropped_train_X)\n",
    "\n",
    "fig = plt.figure(figsize=(9, 15))\n",
    "fig.subplots_adjust(left=0, right=1, bottom=0, top=0.5, hspace=0.05,\n",
    "                    wspace=0.05)\n",
    "\n",
    "for i in range(81):\n",
    "    ax = fig.add_subplot(9, 9, i + 1, xticks=[], yticks=[])\n",
    "    ax.imshow(cropped_train_X[i])"
   ]
  },
  {
   "cell_type": "markdown",
   "metadata": {},
   "source": [
    "## 課題3. Preprocessing"
   ]
  },
  {
   "cell_type": "markdown",
   "metadata": {},
   "source": [
    "- Global Contrast Normalization (GCN)\n",
    "- ZCA Whitening\n",
    "- ..."
   ]
  },
  {
   "cell_type": "markdown",
   "metadata": {},
   "source": [
    "### 1. Global Contrast Normalization (GCN)"
   ]
  },
  {
   "cell_type": "markdown",
   "metadata": {},
   "source": [
    "$$ {\\bf x}^{norm} = \\frac{{\\bf x} - \\bar{{\\bf x}}}{\\sqrt{\\sigma_{{\\bf x}}}} $$"
   ]
  },
  {
   "cell_type": "markdown",
   "metadata": {},
   "source": [
    "- 通常の標準化とは違い，画像ごと\n",
    "- コントラストが低くなる"
   ]
  },
  {
   "cell_type": "code",
   "execution_count": null,
   "metadata": {
    "collapsed": true
   },
   "outputs": [],
   "source": [
    "def gcn(x):\n",
    "    mean = np.mean(x, axis=(1, 2, 3), keepdims=True)\n",
    "    std = np.std(x, axis=(1, 2, 3), keepdims=True)\n",
    "    return (x - mean)/std"
   ]
  },
  {
   "cell_type": "code",
   "execution_count": null,
   "metadata": {
    "collapsed": true
   },
   "outputs": [],
   "source": [
    "normalized_train_X = gcn(train_X)"
   ]
  },
  {
   "cell_type": "code",
   "execution_count": null,
   "metadata": {
    "collapsed": true
   },
   "outputs": [],
   "source": [
    "# 可視化用に画像を[0,1]にする&次元を変更\n",
    "def deprocess(x):\n",
    "    _min = np.min(x)\n",
    "    _max = np.max(x)\n",
    "    _x = (x - _min)/(_max - _min)\n",
    "    _x = _x\n",
    "    return _x"
   ]
  },
  {
   "cell_type": "code",
   "execution_count": null,
   "metadata": {
    "collapsed": false
   },
   "outputs": [],
   "source": [
    "_normalized_train_X = deprocess(normalized_train_X)\n",
    "fig = plt.figure(figsize=(9, 15))\n",
    "fig.subplots_adjust(left=0, right=1, bottom=0, top=0.5, hspace=0.05,\n",
    "                    wspace=0.05)\n",
    "\n",
    "for i in range(81):\n",
    "    ax = fig.add_subplot(9, 9, i + 1, xticks=[], yticks=[])\n",
    "    ax.imshow(_normalized_train_X[i])\n",
    "\n",
    "del _normalized_train_X"
   ]
  },
  {
   "cell_type": "markdown",
   "metadata": {},
   "source": [
    "### 2. Zero-phase Component Analysis (ZCA) Whitening"
   ]
  },
  {
   "cell_type": "markdown",
   "metadata": {},
   "source": [
    "$$ {\\bf x}^{ZCA} = A(\\Lambda + \\epsilon I)^{-\\frac{1}{2}} A^{\\mathrm{T}} ({\\bf x} - \\bar{\\bf x}) $$"
   ]
  },
  {
   "cell_type": "markdown",
   "metadata": {},
   "source": [
    "- np.linalg.svdを使うと便利（厳密にはnp.linalg.svdは特異値分解）"
   ]
  },
  {
   "cell_type": "code",
   "execution_count": null,
   "metadata": {
    "collapsed": true
   },
   "outputs": [],
   "source": [
    "class ZCAWhitening:\n",
    "    def __init__(self, epsilon=1e-4):\n",
    "        self.epsilon = epsilon\n",
    "        self.mean = None\n",
    "        self.ZCA_matrix = None\n",
    "\n",
    "    def fit(self, x):\n",
    "        x = x.reshape(x.shape[0], -1)\n",
    "        self.mean = np.mean(x, axis=0)\n",
    "        x -= self.mean\n",
    "        cov_matrix = np.dot(x.T, x) / x.shape[0]\n",
    "        A, d, _ = np.linalg.svd(cov_matrix)\n",
    "        self.ZCA_matrix = np.dot(np.dot(A, np.diag(1. / np.sqrt(d + self.epsilon))), A.T)\n",
    "\n",
    "    def transform(self, x):\n",
    "        shape = x.shape\n",
    "        x = x.reshape(x.shape[0], -1)\n",
    "        x -= self.mean\n",
    "        x = np.dot(x, self.ZCA_matrix.T)\n",
    "        return x.reshape(shape)"
   ]
  },
  {
   "cell_type": "code",
   "execution_count": null,
   "metadata": {
    "collapsed": false
   },
   "outputs": [],
   "source": [
    "zca = ZCAWhitening()\n",
    "zca.fit(train_X)\n",
    "zca_train_X = zca.transform(train_X)"
   ]
  },
  {
   "cell_type": "code",
   "execution_count": null,
   "metadata": {
    "collapsed": true
   },
   "outputs": [],
   "source": [
    "# 可視化用に各画像ごとに[0,1]にする(ZCAの結果を見やすくするため)&次元を変更\n",
    "def deprocess_each_img(x):\n",
    "    _min = np.min(x, axis=(1, 2, 3), keepdims=True)\n",
    "    _max = np.max(x, axis=(1, 2, 3), keepdims=True)\n",
    "    _x = (x - _min)/(_max - _min)\n",
    "    _x = _x\n",
    "    return _x"
   ]
  },
  {
   "cell_type": "code",
   "execution_count": null,
   "metadata": {
    "collapsed": false
   },
   "outputs": [],
   "source": [
    "_zca_train_X = deprocess_each_img(zca_train_X)\n",
    "\n",
    "fig = plt.figure(figsize=(9, 15))\n",
    "fig.subplots_adjust(left=0, right=1, bottom=0, top=0.5, hspace=0.05,\n",
    "                    wspace=0.05)\n",
    "\n",
    "for i in range(81):\n",
    "    ax = fig.add_subplot(9, 9, i + 1, xticks=[], yticks=[])\n",
    "    ax.imshow(_zca_train_X[i])\n",
    "\n",
    "del _zca_train_X"
   ]
  },
  {
   "cell_type": "markdown",
   "metadata": {},
   "source": [
    "## 課題4. Batch Normalization"
   ]
  },
  {
   "cell_type": "markdown",
   "metadata": {},
   "source": [
    "![](https://standardfrancis.files.wordpress.com/2015/04/screenshot-from-2015-04-16-133436.png?w=1008)"
   ]
  },
  {
   "cell_type": "code",
   "execution_count": null,
   "metadata": {
    "collapsed": true
   },
   "outputs": [],
   "source": [
    "class BatchNorm:\n",
    "    def __init__(self, shape, epsilon=np.float32(1e-5)):\n",
    "        self.gamma = tf.Variable(np.ones(shape, dtype='float32'), name='gamma')\n",
    "        self.beta  = tf.Variable(np.zeros(shape, dtype='float32'), name='beta')\n",
    "        self.epsilon = epsilon\n",
    "\n",
    "    def f_prop(self, x):\n",
    "        if len(x.get_shape()) == 2:\n",
    "            mean, var = tf.nn.moments(x, axes=0, keepdims=True)\n",
    "            std = tf.sqrt(var + self.epsilon)\n",
    "        elif len(x.get_shape()) == 4:\n",
    "            mean, var = tf.nn.moments(x, axes=(0,1,2), keep_dims=True)\n",
    "            std = tf.sqrt(var + self.epsilon)\n",
    "        normalized_x = (x - mean) / std\n",
    "        return self.gamma * normalized_x + self.beta"
   ]
  },
  {
   "cell_type": "markdown",
   "metadata": {},
   "source": [
    "## 課題5. 畳み込みニューラルネットワーク(Convolutional Neural Networks)の実装と学習"
   ]
  },
  {
   "cell_type": "markdown",
   "metadata": {},
   "source": [
    "### 1. 各層クラスの実装"
   ]
  },
  {
   "cell_type": "markdown",
   "metadata": {},
   "source": [
    "#### 畳み込み層"
   ]
  },
  {
   "cell_type": "code",
   "execution_count": null,
   "metadata": {
    "collapsed": true
   },
   "outputs": [],
   "source": [
    "class Conv:\n",
    "    def __init__(self, filter_shape, function=lambda x: x, strides=[1,1,1,1], padding='VALID'):\n",
    "        # Xavier\n",
    "        fan_in = np.prod(filter_shape[:3])\n",
    "        fan_out = np.prod(filter_shape[:2]) * filter_shape[3]\n",
    "        self.W = tf.Variable(rng.uniform(\n",
    "                        low=-np.sqrt(6/(fan_in + fan_out)),\n",
    "                        high=np.sqrt(6/(fan_in + fan_out)),\n",
    "                        size=filter_shape\n",
    "                    ).astype('float32'), name='W')\n",
    "        self.b = tf.Variable(np.zeros((filter_shape[3]), dtype='float32'), name='b') # バイアスはフィルタごと\n",
    "        self.function = function\n",
    "        self.strides = strides\n",
    "        self.padding = padding\n",
    "\n",
    "    def f_prop(self, x):\n",
    "        u = tf.nn.conv2d(x, self.W, strides=self.strides, padding=self.padding) + self.b\n",
    "        return self.function(u)"
   ]
  },
  {
   "cell_type": "markdown",
   "metadata": {},
   "source": [
    "#### プーリング層"
   ]
  },
  {
   "cell_type": "code",
   "execution_count": null,
   "metadata": {
    "collapsed": true
   },
   "outputs": [],
   "source": [
    "class Pooling:\n",
    "    def __init__(self, ksize=[1,2,2,1], strides=[1,2,2,1], padding='VALID'):\n",
    "        self.ksize = ksize\n",
    "        self.strides = strides\n",
    "        self.padding = padding\n",
    "    \n",
    "    def f_prop(self, x):\n",
    "        return tf.nn.max_pool(x, ksize=self.ksize, strides=self.strides, padding=self.padding)"
   ]
  },
  {
   "cell_type": "markdown",
   "metadata": {},
   "source": [
    "#### 平滑化層（4次元->2次元）"
   ]
  },
  {
   "cell_type": "code",
   "execution_count": null,
   "metadata": {
    "collapsed": true
   },
   "outputs": [],
   "source": [
    "class Flatten:\n",
    "    def f_prop(self, x):\n",
    "        return tf.reshape(x, (-1, np.prod(x.get_shape().as_list()[1:])))"
   ]
  },
  {
   "cell_type": "markdown",
   "metadata": {},
   "source": [
    "#### 全結合層"
   ]
  },
  {
   "cell_type": "code",
   "execution_count": null,
   "metadata": {
    "collapsed": true
   },
   "outputs": [],
   "source": [
    "class Dense:\n",
    "    def __init__(self, in_dim, out_dim, function=lambda x: x):\n",
    "        # Xavier\n",
    "        self.W = tf.Variable(rng.uniform(\n",
    "                        low=-np.sqrt(6/(in_dim + out_dim)),\n",
    "                        high=np.sqrt(6/(in_dim + out_dim)),\n",
    "                        size=(in_dim, out_dim)\n",
    "                    ).astype('float32'), name='W')\n",
    "        self.b = tf.Variable(np.zeros([out_dim]).astype('float32'))\n",
    "        self.function = function\n",
    "\n",
    "    def f_prop(self, x):\n",
    "        return self.function(tf.matmul(x, self.W) + self.b)"
   ]
  },
  {
   "cell_type": "markdown",
   "metadata": {},
   "source": [
    "#### 活性化層"
   ]
  },
  {
   "cell_type": "code",
   "execution_count": null,
   "metadata": {
    "collapsed": true
   },
   "outputs": [],
   "source": [
    "class Activation:\n",
    "    def __init__(self, function=lambda x: x):\n",
    "        self.function = function\n",
    "    \n",
    "    def f_prop(self, x):\n",
    "        return self.function(x)"
   ]
  },
  {
   "cell_type": "markdown",
   "metadata": {
    "collapsed": true
   },
   "source": [
    "### 2. 計算グラフ構築 & パラメータの更新設定"
   ]
  },
  {
   "cell_type": "code",
   "execution_count": null,
   "metadata": {
    "collapsed": true
   },
   "outputs": [],
   "source": [
    "layers = [ # (縦の次元数)x(横の次元数)x(チャネル数)\n",
    "    Conv((3, 3, 3, 32)), # 32x32x3 -> 30x30x32\n",
    "    BatchNorm((30, 30, 32)),\n",
    "    Activation(tf.nn.relu),\n",
    "    Pooling((1, 2, 2, 1)), # 30x30x32 -> 15x15x32\n",
    "    Conv((3, 3, 32, 64)), # 15x15x32 -> 13x13x64\n",
    "    BatchNorm((13, 13, 64)),\n",
    "    Activation(tf.nn.relu),\n",
    "    Pooling(((1, 2, 2, 1))), # 13x13x64 -> 6x6x64\n",
    "    Conv((3, 3, 64, 128)), # 6x6x64 -> 4x4x128\n",
    "    BatchNorm((4, 4, 128)),\n",
    "    Activation(tf.nn.relu),\n",
    "    Pooling((1, 2, 2, 1)), # 4x4x128 -> 2x2x128\n",
    "    Flatten(),\n",
    "    Dense(2*2*128, 256, tf.nn.relu),\n",
    "    Dense(256, 10, tf.nn.softmax)\n",
    "]\n",
    "\n",
    "x = tf.placeholder(tf.float32, [None, 32, 32, 3])\n",
    "t = tf.placeholder(tf.float32, [None, 10])\n",
    "\n",
    "def f_props(layers, x):\n",
    "    for layer in layers:\n",
    "        x = layer.f_prop(x)\n",
    "    return x\n",
    "\n",
    "y = f_props(layers, x)\n",
    "\n",
    "cost = -tf.reduce_mean(tf.reduce_sum(t * tf.log(tf.clip_by_value(y, 1e-10, 1.0)), axis=1))\n",
    "train = tf.train.GradientDescentOptimizer(0.01).minimize(cost)\n",
    "\n",
    "valid = tf.argmax(y, 1)"
   ]
  },
  {
   "cell_type": "markdown",
   "metadata": {},
   "source": [
    "### 3. 学習"
   ]
  },
  {
   "cell_type": "markdown",
   "metadata": {},
   "source": [
    "#### Preprocessing"
   ]
  },
  {
   "cell_type": "code",
   "execution_count": null,
   "metadata": {
    "collapsed": true
   },
   "outputs": [],
   "source": [
    "zca = ZCAWhitening()\n",
    "zca.fit(gcn(train_X))\n",
    "zca_train_X = zca.transform(gcn(train_X))\n",
    "zca_train_y = train_y[:]\n",
    "zca_valid_X = zca.transform(gcn(valid_X))\n",
    "zca_valid_y = valid_y[:]"
   ]
  },
  {
   "cell_type": "markdown",
   "metadata": {},
   "source": [
    "#### 学習"
   ]
  },
  {
   "cell_type": "code",
   "execution_count": null,
   "metadata": {
    "collapsed": false
   },
   "outputs": [],
   "source": [
    "n_epochs = 10\n",
    "batch_size = 100\n",
    "n_batches = train_X.shape[0]//batch_size\n",
    "\n",
    "sess = tf.Session()\n",
    "init = tf.global_variables_initializer()\n",
    "sess.run(init)\n",
    "\n",
    "for epoch in range(n_epochs):\n",
    "    zca_train_X, zca_train_y = shuffle(zca_train_X, zca_train_y, random_state=random_state)\n",
    "    for i in range(n_batches):\n",
    "        start = i * batch_size\n",
    "        end = start + batch_size\n",
    "        sess.run(train, feed_dict={x: zca_train_X[start:end], t: zca_train_y[start:end]})\n",
    "    pred_y, valid_cost = sess.run([valid, cost], feed_dict={x: zca_valid_X, t: zca_valid_y})\n",
    "    print('EPOCH:: %i, Validation cost: %.3f, Validation F1: %.3f' % (epoch + 1, valid_cost, f1_score(np.argmax(valid_y, 1).astype('int32'), pred_y, average='macro')))"
   ]
  },
  {
   "cell_type": "markdown",
   "metadata": {},
   "source": [
    "## 課題7. Activationの可視化"
   ]
  },
  {
   "cell_type": "code",
   "execution_count": null,
   "metadata": {
    "collapsed": true
   },
   "outputs": [],
   "source": [
    "plt.imshow(deprocess(train_X)[0])"
   ]
  },
  {
   "cell_type": "markdown",
   "metadata": {},
   "source": [
    "### 1. conv1"
   ]
  },
  {
   "cell_type": "code",
   "execution_count": null,
   "metadata": {
    "collapsed": true
   },
   "outputs": [],
   "source": [
    "x = tf.placeholder(tf.float32)\n",
    "\n",
    "plot_layer = 0\n",
    "\n",
    "layer_out = x\n",
    "for layer in layers[:plot_layer+1]:\n",
    "    layer_out = layer.f_prop(layer_out)"
   ]
  },
  {
   "cell_type": "code",
   "execution_count": null,
   "metadata": {
    "collapsed": true
   },
   "outputs": [],
   "source": [
    "output = sess.run(layer_out, feed_dict={x: train_X[0][np.newaxis]})"
   ]
  },
  {
   "cell_type": "code",
   "execution_count": null,
   "metadata": {
    "collapsed": true
   },
   "outputs": [],
   "source": [
    "_output = deprocess(output)\n",
    "fig = plt.figure(figsize=(10, 10))\n",
    "for i in range(9):\n",
    "    ax = fig.add_subplot(3, 3, i+1, xticks=[], yticks=[])\n",
    "    ax.imshow(_output[0, :, :, i], cmap='gray')"
   ]
  },
  {
   "cell_type": "markdown",
   "metadata": {},
   "source": [
    "### 2. conv2"
   ]
  },
  {
   "cell_type": "code",
   "execution_count": null,
   "metadata": {
    "collapsed": true
   },
   "outputs": [],
   "source": [
    "x = tf.placeholder(tf.float32)\n",
    "\n",
    "plot_layer = 4\n",
    "\n",
    "layer_out = x\n",
    "for layer in layers[:plot_layer+1]:\n",
    "    layer_out = layer.f_prop(layer_out)"
   ]
  },
  {
   "cell_type": "code",
   "execution_count": null,
   "metadata": {
    "collapsed": true
   },
   "outputs": [],
   "source": [
    "output = sess.run(layer_out, feed_dict={x: train_X[0][np.newaxis]})"
   ]
  },
  {
   "cell_type": "code",
   "execution_count": null,
   "metadata": {
    "collapsed": true
   },
   "outputs": [],
   "source": [
    "_output = deprocess(output)\n",
    "fig = plt.figure(figsize=(10, 10))\n",
    "for i in range(9):\n",
    "    ax = fig.add_subplot(3, 3, i+1, xticks=[], yticks=[])\n",
    "    ax.imshow(_output[0, :, :, i], cmap='gray')"
   ]
  },
  {
   "cell_type": "markdown",
   "metadata": {},
   "source": [
    "### 3. conv3"
   ]
  },
  {
   "cell_type": "code",
   "execution_count": null,
   "metadata": {
    "collapsed": true
   },
   "outputs": [],
   "source": [
    "x = tf.placeholder(tf.float32)\n",
    "\n",
    "plot_layer = 7\n",
    "\n",
    "layer_out = x\n",
    "for layer in layers[:plot_layer+1]:\n",
    "    layer_out = layer.f_prop(layer_out)"
   ]
  },
  {
   "cell_type": "code",
   "execution_count": null,
   "metadata": {
    "collapsed": true
   },
   "outputs": [],
   "source": [
    "output = sess.run(layer_out, feed_dict={x: train_X[0][np.newaxis]})"
   ]
  },
  {
   "cell_type": "code",
   "execution_count": null,
   "metadata": {
    "collapsed": true
   },
   "outputs": [],
   "source": [
    "_output = deprocess(output)\n",
    "fig = plt.figure(figsize=(10, 10))\n",
    "for i in range(9):\n",
    "    ax = fig.add_subplot(3, 3, i+1, xticks=[], yticks=[])\n",
    "    ax.imshow(_output[0, :, :, i], cmap='gray')"
   ]
  },
  {
   "cell_type": "code",
   "execution_count": null,
   "metadata": {
    "collapsed": true
   },
   "outputs": [],
   "source": [
    "sess.close()"
   ]
  }
 ],
 "metadata": {
  "anaconda-cloud": {},
  "kernelspec": {
   "display_name": "Python 3",
   "language": "python",
   "name": "python3"
  },
  "language_info": {
   "codemirror_mode": {
    "name": "ipython",
    "version": 3
   },
   "file_extension": ".py",
   "mimetype": "text/x-python",
   "name": "python",
   "nbconvert_exporter": "python",
   "pygments_lexer": "ipython3",
   "version": "3.5.4"
  }
 },
 "nbformat": 4,
 "nbformat_minor": 2
}
